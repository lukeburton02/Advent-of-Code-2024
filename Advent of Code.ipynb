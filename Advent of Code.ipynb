{
 "cells": [
  {
   "cell_type": "code",
   "execution_count": 1,
   "id": "111e05c8",
   "metadata": {},
   "outputs": [],
   "source": [
    "import pandas as pd\n",
    "import numpy as np"
   ]
  },
  {
   "cell_type": "markdown",
   "id": "935b10ae",
   "metadata": {},
   "source": [
    "## Day 7\n",
    "Receive a list of numbers and see if you can make the target number using a sequence of addition and multiplication, from left to right"
   ]
  },
  {
   "cell_type": "code",
   "execution_count": 9,
   "id": "c9b1062d",
   "metadata": {},
   "outputs": [],
   "source": [
    "# calculate the outcome given the sequence of operations\n",
    "def apply(nums, ops): \n",
    "    if len(ops) != len(nums)-1: # we need the correct number of operations\n",
    "        print(\"Length issue\")\n",
    "        return\n",
    "    total = nums[0]\n",
    "    for i in range(len(ops)):\n",
    "        if ops[i] == 1:\n",
    "            total *= nums[i+1]\n",
    "        elif ops[i] == 0:\n",
    "            total += nums[i+1]\n",
    "        else:\n",
    "            print(\"Error: Not a 0 or 1\")   \n",
    "    return total\n",
    "\n",
    "# 1 for multiplication, 0 for addition\n",
    "def getPossibilities(nums):\n",
    "    if len(nums) == 0: # empty list\n",
    "        return None\n",
    "    elif len(nums) == 1: # only one number\n",
    "        return []\n",
    "    else:\n",
    "        possibs = [] # store each possible combination of 1s and 0s\n",
    "        for i in range(2**(len(nums)-1)):\n",
    "            binary = bin(i)[2:].zfill(len(nums)-1)\n",
    "            possibs.append([int(bit) for bit in binary])\n",
    "    return possibs\n",
    "\n",
    "# check if the target can be obtained by running through each possibility\n",
    "def solvable(nums, target):\n",
    "    possibilities =  getPossibilities(nums)\n",
    "    for posib in possibilities:\n",
    "        total = apply(nums, posib)\n",
    "        if total == target:\n",
    "            return target\n",
    "    return 0"
   ]
  },
  {
   "cell_type": "code",
   "execution_count": 10,
   "id": "14f489c2",
   "metadata": {
    "scrolled": true
   },
   "outputs": [
    {
     "data": {
      "text/plain": [
       "3119088655389"
      ]
     },
     "execution_count": 10,
     "metadata": {},
     "output_type": "execute_result"
    }
   ],
   "source": [
    "# open text file and read contents\n",
    "with open('aoc7', 'r') as file:\n",
    "    data = file.readlines()\n",
    "\n",
    "# run through each line and check if solvable. if yes, add the target to the total\n",
    "total = 0\n",
    "for line in data:\n",
    "    target, nums = line.split(\":\")\n",
    "    nums = list(map(int, nums.split()))\n",
    "    total += solvable(nums, int(target))\n",
    "    \n",
    "total"
   ]
  }
 ],
 "metadata": {
  "kernelspec": {
   "display_name": "Python 3 (ipykernel)",
   "language": "python",
   "name": "python3"
  },
  "language_info": {
   "codemirror_mode": {
    "name": "ipython",
    "version": 3
   },
   "file_extension": ".py",
   "mimetype": "text/x-python",
   "name": "python",
   "nbconvert_exporter": "python",
   "pygments_lexer": "ipython3",
   "version": "3.11.5"
  }
 },
 "nbformat": 4,
 "nbformat_minor": 5
}
